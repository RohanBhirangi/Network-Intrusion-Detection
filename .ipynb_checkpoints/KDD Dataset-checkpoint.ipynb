{
 "cells": [
  {
   "cell_type": "markdown",
   "metadata": {},
   "source": [
    "# KDD Cup 1999 Dataset.\n",
    "\n",
    "Project Members:\n",
    "\n",
    "Aalap Darshak Parikh (adp459)<br>\n",
    "Rohan Ketan Bhirangi (rkb332)\n",
    "\n",
    "### Overview:\n",
    "This dataset is used to make a predictive model to distinguish between 'bad' connections or instrusions from 'good' or benign connections.\n",
    "\n",
    "The challenge here is to minimize the number of False Negatives.\n",
    "\n",
    "We would be using pandas and scikit-learn for this assignment."
   ]
  },
  {
   "cell_type": "code",
   "execution_count": 1,
   "metadata": {
    "collapsed": true
   },
   "outputs": [],
   "source": [
    "import pandas as pd"
   ]
  },
  {
   "cell_type": "markdown",
   "metadata": {},
   "source": [
    "### Reading the dataset to a Pandas Dataframe."
   ]
  },
  {
   "cell_type": "code",
   "execution_count": 2,
   "metadata": {
    "collapsed": true
   },
   "outputs": [],
   "source": [
    "f = open('/Users/aalap/Desktop/FDS/data/kddcup.names').read().split(\"\\n\")\n",
    "names = list()\n",
    "for i in f[1:-1]:\n",
    "    name = i.split(': ')\n",
    "    names.append(name[0])"
   ]
  },
  {
   "cell_type": "code",
   "execution_count": 3,
   "metadata": {
    "collapsed": true
   },
   "outputs": [],
   "source": [
    "names.append('attack_type')\n",
    "DFTest = pd.read_csv('/Users/aalap/Desktop/FDS/data/corrected', names=names, index_col=False)\n",
    "DF = pd.read_csv('/Users/aalap/Desktop/FDS/data/kddcup.data_10_percent', names=names, index_col=False)"
   ]
  },
  {
   "cell_type": "markdown",
   "metadata": {},
   "source": [
    "### There are half a million records in the Dataset"
   ]
  },
  {
   "cell_type": "code",
   "execution_count": 4,
   "metadata": {},
   "outputs": [
    {
     "data": {
      "text/plain": [
       "494021"
      ]
     },
     "execution_count": 4,
     "metadata": {},
     "output_type": "execute_result"
    }
   ],
   "source": [
    "len(DF)"
   ]
  },
  {
   "cell_type": "code",
   "execution_count": 5,
   "metadata": {},
   "outputs": [
    {
     "data": {
      "text/html": [
       "<div>\n",
       "<style>\n",
       "    .dataframe thead tr:only-child th {\n",
       "        text-align: right;\n",
       "    }\n",
       "\n",
       "    .dataframe thead th {\n",
       "        text-align: left;\n",
       "    }\n",
       "\n",
       "    .dataframe tbody tr th {\n",
       "        vertical-align: top;\n",
       "    }\n",
       "</style>\n",
       "<table border=\"1\" class=\"dataframe\">\n",
       "  <thead>\n",
       "    <tr style=\"text-align: right;\">\n",
       "      <th></th>\n",
       "      <th>duration</th>\n",
       "      <th>protocol_type</th>\n",
       "      <th>service</th>\n",
       "      <th>flag</th>\n",
       "      <th>src_bytes</th>\n",
       "      <th>dst_bytes</th>\n",
       "      <th>land</th>\n",
       "      <th>wrong_fragment</th>\n",
       "      <th>urgent</th>\n",
       "      <th>hot</th>\n",
       "      <th>...</th>\n",
       "      <th>dst_host_srv_count</th>\n",
       "      <th>dst_host_same_srv_rate</th>\n",
       "      <th>dst_host_diff_srv_rate</th>\n",
       "      <th>dst_host_same_src_port_rate</th>\n",
       "      <th>dst_host_srv_diff_host_rate</th>\n",
       "      <th>dst_host_serror_rate</th>\n",
       "      <th>dst_host_srv_serror_rate</th>\n",
       "      <th>dst_host_rerror_rate</th>\n",
       "      <th>dst_host_srv_rerror_rate</th>\n",
       "      <th>attack_type</th>\n",
       "    </tr>\n",
       "  </thead>\n",
       "  <tbody>\n",
       "    <tr>\n",
       "      <th>0</th>\n",
       "      <td>0</td>\n",
       "      <td>tcp</td>\n",
       "      <td>http</td>\n",
       "      <td>SF</td>\n",
       "      <td>181</td>\n",
       "      <td>5450</td>\n",
       "      <td>0</td>\n",
       "      <td>0</td>\n",
       "      <td>0</td>\n",
       "      <td>0</td>\n",
       "      <td>...</td>\n",
       "      <td>9</td>\n",
       "      <td>1.0</td>\n",
       "      <td>0.0</td>\n",
       "      <td>0.11</td>\n",
       "      <td>0.0</td>\n",
       "      <td>0.0</td>\n",
       "      <td>0.0</td>\n",
       "      <td>0.0</td>\n",
       "      <td>0.0</td>\n",
       "      <td>normal.</td>\n",
       "    </tr>\n",
       "    <tr>\n",
       "      <th>1</th>\n",
       "      <td>0</td>\n",
       "      <td>tcp</td>\n",
       "      <td>http</td>\n",
       "      <td>SF</td>\n",
       "      <td>239</td>\n",
       "      <td>486</td>\n",
       "      <td>0</td>\n",
       "      <td>0</td>\n",
       "      <td>0</td>\n",
       "      <td>0</td>\n",
       "      <td>...</td>\n",
       "      <td>19</td>\n",
       "      <td>1.0</td>\n",
       "      <td>0.0</td>\n",
       "      <td>0.05</td>\n",
       "      <td>0.0</td>\n",
       "      <td>0.0</td>\n",
       "      <td>0.0</td>\n",
       "      <td>0.0</td>\n",
       "      <td>0.0</td>\n",
       "      <td>normal.</td>\n",
       "    </tr>\n",
       "    <tr>\n",
       "      <th>2</th>\n",
       "      <td>0</td>\n",
       "      <td>tcp</td>\n",
       "      <td>http</td>\n",
       "      <td>SF</td>\n",
       "      <td>235</td>\n",
       "      <td>1337</td>\n",
       "      <td>0</td>\n",
       "      <td>0</td>\n",
       "      <td>0</td>\n",
       "      <td>0</td>\n",
       "      <td>...</td>\n",
       "      <td>29</td>\n",
       "      <td>1.0</td>\n",
       "      <td>0.0</td>\n",
       "      <td>0.03</td>\n",
       "      <td>0.0</td>\n",
       "      <td>0.0</td>\n",
       "      <td>0.0</td>\n",
       "      <td>0.0</td>\n",
       "      <td>0.0</td>\n",
       "      <td>normal.</td>\n",
       "    </tr>\n",
       "    <tr>\n",
       "      <th>3</th>\n",
       "      <td>0</td>\n",
       "      <td>tcp</td>\n",
       "      <td>http</td>\n",
       "      <td>SF</td>\n",
       "      <td>219</td>\n",
       "      <td>1337</td>\n",
       "      <td>0</td>\n",
       "      <td>0</td>\n",
       "      <td>0</td>\n",
       "      <td>0</td>\n",
       "      <td>...</td>\n",
       "      <td>39</td>\n",
       "      <td>1.0</td>\n",
       "      <td>0.0</td>\n",
       "      <td>0.03</td>\n",
       "      <td>0.0</td>\n",
       "      <td>0.0</td>\n",
       "      <td>0.0</td>\n",
       "      <td>0.0</td>\n",
       "      <td>0.0</td>\n",
       "      <td>normal.</td>\n",
       "    </tr>\n",
       "    <tr>\n",
       "      <th>4</th>\n",
       "      <td>0</td>\n",
       "      <td>tcp</td>\n",
       "      <td>http</td>\n",
       "      <td>SF</td>\n",
       "      <td>217</td>\n",
       "      <td>2032</td>\n",
       "      <td>0</td>\n",
       "      <td>0</td>\n",
       "      <td>0</td>\n",
       "      <td>0</td>\n",
       "      <td>...</td>\n",
       "      <td>49</td>\n",
       "      <td>1.0</td>\n",
       "      <td>0.0</td>\n",
       "      <td>0.02</td>\n",
       "      <td>0.0</td>\n",
       "      <td>0.0</td>\n",
       "      <td>0.0</td>\n",
       "      <td>0.0</td>\n",
       "      <td>0.0</td>\n",
       "      <td>normal.</td>\n",
       "    </tr>\n",
       "  </tbody>\n",
       "</table>\n",
       "<p>5 rows × 42 columns</p>\n",
       "</div>"
      ],
      "text/plain": [
       "   duration protocol_type service flag  src_bytes  dst_bytes  land  \\\n",
       "0         0           tcp    http   SF        181       5450     0   \n",
       "1         0           tcp    http   SF        239        486     0   \n",
       "2         0           tcp    http   SF        235       1337     0   \n",
       "3         0           tcp    http   SF        219       1337     0   \n",
       "4         0           tcp    http   SF        217       2032     0   \n",
       "\n",
       "   wrong_fragment  urgent  hot     ...       dst_host_srv_count  \\\n",
       "0               0       0    0     ...                        9   \n",
       "1               0       0    0     ...                       19   \n",
       "2               0       0    0     ...                       29   \n",
       "3               0       0    0     ...                       39   \n",
       "4               0       0    0     ...                       49   \n",
       "\n",
       "   dst_host_same_srv_rate  dst_host_diff_srv_rate  \\\n",
       "0                     1.0                     0.0   \n",
       "1                     1.0                     0.0   \n",
       "2                     1.0                     0.0   \n",
       "3                     1.0                     0.0   \n",
       "4                     1.0                     0.0   \n",
       "\n",
       "   dst_host_same_src_port_rate  dst_host_srv_diff_host_rate  \\\n",
       "0                         0.11                          0.0   \n",
       "1                         0.05                          0.0   \n",
       "2                         0.03                          0.0   \n",
       "3                         0.03                          0.0   \n",
       "4                         0.02                          0.0   \n",
       "\n",
       "   dst_host_serror_rate  dst_host_srv_serror_rate  dst_host_rerror_rate  \\\n",
       "0                   0.0                       0.0                   0.0   \n",
       "1                   0.0                       0.0                   0.0   \n",
       "2                   0.0                       0.0                   0.0   \n",
       "3                   0.0                       0.0                   0.0   \n",
       "4                   0.0                       0.0                   0.0   \n",
       "\n",
       "   dst_host_srv_rerror_rate  attack_type  \n",
       "0                       0.0      normal.  \n",
       "1                       0.0      normal.  \n",
       "2                       0.0      normal.  \n",
       "3                       0.0      normal.  \n",
       "4                       0.0      normal.  \n",
       "\n",
       "[5 rows x 42 columns]"
      ]
     },
     "execution_count": 5,
     "metadata": {},
     "output_type": "execute_result"
    }
   ],
   "source": [
    "DF.head()"
   ]
  },
  {
   "cell_type": "markdown",
   "metadata": {},
   "source": [
    "### Remove the extra '.'s from attack_type"
   ]
  },
  {
   "cell_type": "code",
   "execution_count": 6,
   "metadata": {
    "collapsed": true
   },
   "outputs": [],
   "source": [
    "DF['attack_type'] = DF['attack_type'].apply(lambda x: str(x)[:-1])\n",
    "DFTest['attack_type'] = DFTest['attack_type'].apply(lambda x: str(x)[:-1])"
   ]
  },
  {
   "cell_type": "markdown",
   "metadata": {},
   "source": [
    "Check columns having missing values"
   ]
  },
  {
   "cell_type": "code",
   "execution_count": 7,
   "metadata": {},
   "outputs": [
    {
     "name": "stdout",
     "output_type": "stream",
     "text": [
      "No Missing Values in  duration\n",
      "No Missing Values in  protocol_type\n",
      "No Missing Values in  service\n",
      "No Missing Values in  flag\n",
      "No Missing Values in  src_bytes\n",
      "No Missing Values in  dst_bytes\n",
      "No Missing Values in  land\n",
      "No Missing Values in  wrong_fragment\n",
      "No Missing Values in  urgent\n",
      "No Missing Values in  hot\n",
      "No Missing Values in  num_failed_logins\n",
      "No Missing Values in  logged_in\n",
      "No Missing Values in  num_compromised\n",
      "No Missing Values in  root_shell\n",
      "No Missing Values in  su_attempted\n",
      "No Missing Values in  num_root\n",
      "No Missing Values in  num_file_creations\n",
      "No Missing Values in  num_shells\n",
      "No Missing Values in  num_access_files\n",
      "No Missing Values in  num_outbound_cmds\n",
      "No Missing Values in  is_host_login\n",
      "No Missing Values in  is_guest_login\n",
      "No Missing Values in  count\n",
      "No Missing Values in  srv_count\n",
      "No Missing Values in  serror_rate\n",
      "No Missing Values in  srv_serror_rate\n",
      "No Missing Values in  rerror_rate\n",
      "No Missing Values in  srv_rerror_rate\n",
      "No Missing Values in  same_srv_rate\n",
      "No Missing Values in  diff_srv_rate\n",
      "No Missing Values in  srv_diff_host_rate\n",
      "No Missing Values in  dst_host_count\n",
      "No Missing Values in  dst_host_srv_count\n",
      "No Missing Values in  dst_host_same_srv_rate\n",
      "No Missing Values in  dst_host_diff_srv_rate\n",
      "No Missing Values in  dst_host_same_src_port_rate\n",
      "No Missing Values in  dst_host_srv_diff_host_rate\n",
      "No Missing Values in  dst_host_serror_rate\n",
      "No Missing Values in  dst_host_srv_serror_rate\n",
      "No Missing Values in  dst_host_rerror_rate\n",
      "No Missing Values in  dst_host_srv_rerror_rate\n",
      "No Missing Values in  attack_type\n"
     ]
    }
   ],
   "source": [
    "for i in DF.columns:\n",
    "    if len(DF[DF[i].isnull()]):\n",
    "        print i\n",
    "    else:\n",
    "        print \"No Missing Values in \",i"
   ]
  },
  {
   "cell_type": "code",
   "execution_count": 8,
   "metadata": {},
   "outputs": [
    {
     "name": "stdout",
     "output_type": "stream",
     "text": [
      "No Missing Values in  duration\n",
      "No Missing Values in  protocol_type\n",
      "No Missing Values in  service\n",
      "No Missing Values in  flag\n",
      "No Missing Values in  src_bytes\n",
      "No Missing Values in  dst_bytes\n",
      "No Missing Values in  land\n",
      "No Missing Values in  wrong_fragment\n",
      "No Missing Values in  urgent\n",
      "No Missing Values in  hot\n",
      "No Missing Values in  num_failed_logins\n",
      "No Missing Values in  logged_in\n",
      "No Missing Values in  num_compromised\n",
      "No Missing Values in  root_shell\n",
      "No Missing Values in  su_attempted\n",
      "No Missing Values in  num_root\n",
      "No Missing Values in  num_file_creations\n",
      "No Missing Values in  num_shells\n",
      "No Missing Values in  num_access_files\n",
      "No Missing Values in  num_outbound_cmds\n",
      "No Missing Values in  is_host_login\n",
      "No Missing Values in  is_guest_login\n",
      "No Missing Values in  count\n",
      "No Missing Values in  srv_count\n",
      "No Missing Values in  serror_rate\n",
      "No Missing Values in  srv_serror_rate\n",
      "No Missing Values in  rerror_rate\n",
      "No Missing Values in  srv_rerror_rate\n",
      "No Missing Values in  same_srv_rate\n",
      "No Missing Values in  diff_srv_rate\n",
      "No Missing Values in  srv_diff_host_rate\n",
      "No Missing Values in  dst_host_count\n",
      "No Missing Values in  dst_host_srv_count\n",
      "No Missing Values in  dst_host_same_srv_rate\n",
      "No Missing Values in  dst_host_diff_srv_rate\n",
      "No Missing Values in  dst_host_same_src_port_rate\n",
      "No Missing Values in  dst_host_srv_diff_host_rate\n",
      "No Missing Values in  dst_host_serror_rate\n",
      "No Missing Values in  dst_host_srv_serror_rate\n",
      "No Missing Values in  dst_host_rerror_rate\n",
      "No Missing Values in  dst_host_srv_rerror_rate\n",
      "No Missing Values in  attack_type\n"
     ]
    }
   ],
   "source": [
    "for i in DFTest.columns:\n",
    "    if len(DFTest[DFTest[i].isnull()]):\n",
    "        print i\n",
    "    else:\n",
    "        print \"No Missing Values in \",i"
   ]
  },
  {
   "cell_type": "markdown",
   "metadata": {},
   "source": [
    "### Check duplicate rows"
   ]
  },
  {
   "cell_type": "code",
   "execution_count": 9,
   "metadata": {
    "collapsed": true
   },
   "outputs": [],
   "source": [
    "duplicateIndices = DF.duplicated()"
   ]
  },
  {
   "cell_type": "code",
   "execution_count": 10,
   "metadata": {
    "collapsed": true
   },
   "outputs": [],
   "source": [
    "duplicateDF = DF[duplicateIndices]"
   ]
  },
  {
   "cell_type": "code",
   "execution_count": 11,
   "metadata": {},
   "outputs": [
    {
     "data": {
      "text/plain": [
       "duration                       348435\n",
       "protocol_type                  348435\n",
       "service                        348435\n",
       "flag                           348435\n",
       "src_bytes                      348435\n",
       "dst_bytes                      348435\n",
       "land                           348435\n",
       "wrong_fragment                 348435\n",
       "urgent                         348435\n",
       "hot                            348435\n",
       "num_failed_logins              348435\n",
       "logged_in                      348435\n",
       "num_compromised                348435\n",
       "root_shell                     348435\n",
       "su_attempted                   348435\n",
       "num_root                       348435\n",
       "num_file_creations             348435\n",
       "num_shells                     348435\n",
       "num_access_files               348435\n",
       "num_outbound_cmds              348435\n",
       "is_host_login                  348435\n",
       "is_guest_login                 348435\n",
       "count                          348435\n",
       "srv_count                      348435\n",
       "serror_rate                    348435\n",
       "srv_serror_rate                348435\n",
       "rerror_rate                    348435\n",
       "srv_rerror_rate                348435\n",
       "same_srv_rate                  348435\n",
       "diff_srv_rate                  348435\n",
       "srv_diff_host_rate             348435\n",
       "dst_host_count                 348435\n",
       "dst_host_srv_count             348435\n",
       "dst_host_same_srv_rate         348435\n",
       "dst_host_diff_srv_rate         348435\n",
       "dst_host_same_src_port_rate    348435\n",
       "dst_host_srv_diff_host_rate    348435\n",
       "dst_host_serror_rate           348435\n",
       "dst_host_srv_serror_rate       348435\n",
       "dst_host_rerror_rate           348435\n",
       "dst_host_srv_rerror_rate       348435\n",
       "attack_type                    348435\n",
       "dtype: int64"
      ]
     },
     "execution_count": 11,
     "metadata": {},
     "output_type": "execute_result"
    }
   ],
   "source": [
    "duplicateDF.count()"
   ]
  },
  {
   "cell_type": "markdown",
   "metadata": {},
   "source": [
    "As we see that there are too many redundant rows <i>(this being data for TCP dumps, hence having many same values would be very likely)</i>. <br>This can affect the performance of a predictive model. Thus we would only consider the unique rows."
   ]
  },
  {
   "cell_type": "code",
   "execution_count": 12,
   "metadata": {
    "collapsed": true
   },
   "outputs": [],
   "source": [
    "DF = DF[~duplicateIndices]"
   ]
  },
  {
   "cell_type": "code",
   "execution_count": 13,
   "metadata": {},
   "outputs": [
    {
     "data": {
      "text/plain": [
       "duration                       145586\n",
       "protocol_type                  145586\n",
       "service                        145586\n",
       "flag                           145586\n",
       "src_bytes                      145586\n",
       "dst_bytes                      145586\n",
       "land                           145586\n",
       "wrong_fragment                 145586\n",
       "urgent                         145586\n",
       "hot                            145586\n",
       "num_failed_logins              145586\n",
       "logged_in                      145586\n",
       "num_compromised                145586\n",
       "root_shell                     145586\n",
       "su_attempted                   145586\n",
       "num_root                       145586\n",
       "num_file_creations             145586\n",
       "num_shells                     145586\n",
       "num_access_files               145586\n",
       "num_outbound_cmds              145586\n",
       "is_host_login                  145586\n",
       "is_guest_login                 145586\n",
       "count                          145586\n",
       "srv_count                      145586\n",
       "serror_rate                    145586\n",
       "srv_serror_rate                145586\n",
       "rerror_rate                    145586\n",
       "srv_rerror_rate                145586\n",
       "same_srv_rate                  145586\n",
       "diff_srv_rate                  145586\n",
       "srv_diff_host_rate             145586\n",
       "dst_host_count                 145586\n",
       "dst_host_srv_count             145586\n",
       "dst_host_same_srv_rate         145586\n",
       "dst_host_diff_srv_rate         145586\n",
       "dst_host_same_src_port_rate    145586\n",
       "dst_host_srv_diff_host_rate    145586\n",
       "dst_host_serror_rate           145586\n",
       "dst_host_srv_serror_rate       145586\n",
       "dst_host_rerror_rate           145586\n",
       "dst_host_srv_rerror_rate       145586\n",
       "attack_type                    145586\n",
       "dtype: int64"
      ]
     },
     "execution_count": 13,
     "metadata": {},
     "output_type": "execute_result"
    }
   ],
   "source": [
    "DF.count()"
   ]
  },
  {
   "cell_type": "markdown",
   "metadata": {},
   "source": [
    "#### For binary classification, we create an attribute called attack. This would be 0 if the attack was 'normal' and 1 otherwise."
   ]
  },
  {
   "cell_type": "code",
   "execution_count": 14,
   "metadata": {
    "collapsed": true
   },
   "outputs": [],
   "source": [
    "DF['attack'] = (DF['attack_type'] != 'normal')\n",
    "DF['attack'] = DF['attack'].apply(lambda x: int(x))\n",
    "DFTest['attack'] = (DFTest['attack_type'] != 'normal')\n",
    "DFTest['attack'] = DFTest['attack'].apply(lambda x: int(x))"
   ]
  },
  {
   "cell_type": "markdown",
   "metadata": {},
   "source": [
    "#### Now we scale numeric values between 0 and 1"
   ]
  },
  {
   "cell_type": "code",
   "execution_count": 15,
   "metadata": {
    "collapsed": true
   },
   "outputs": [],
   "source": [
    "from sklearn import preprocessing"
   ]
  },
  {
   "cell_type": "code",
   "execution_count": 16,
   "metadata": {
    "collapsed": true
   },
   "outputs": [],
   "source": [
    "min_max_scaler = preprocessing.MinMaxScaler()\n",
    "numeric_attributes = DF.dtypes[DF.dtypes != \"object\"].index\n",
    "DF_scaled = DF\n",
    "DF_scaled[numeric_attributes] = min_max_scaler.fit_transform(DF[numeric_attributes])"
   ]
  },
  {
   "cell_type": "code",
   "execution_count": 17,
   "metadata": {},
   "outputs": [
    {
     "data": {
      "text/html": [
       "<div>\n",
       "<style>\n",
       "    .dataframe thead tr:only-child th {\n",
       "        text-align: right;\n",
       "    }\n",
       "\n",
       "    .dataframe thead th {\n",
       "        text-align: left;\n",
       "    }\n",
       "\n",
       "    .dataframe tbody tr th {\n",
       "        vertical-align: top;\n",
       "    }\n",
       "</style>\n",
       "<table border=\"1\" class=\"dataframe\">\n",
       "  <thead>\n",
       "    <tr style=\"text-align: right;\">\n",
       "      <th></th>\n",
       "      <th>duration</th>\n",
       "      <th>protocol_type</th>\n",
       "      <th>service</th>\n",
       "      <th>flag</th>\n",
       "      <th>src_bytes</th>\n",
       "      <th>dst_bytes</th>\n",
       "      <th>land</th>\n",
       "      <th>wrong_fragment</th>\n",
       "      <th>urgent</th>\n",
       "      <th>hot</th>\n",
       "      <th>...</th>\n",
       "      <th>dst_host_same_srv_rate</th>\n",
       "      <th>dst_host_diff_srv_rate</th>\n",
       "      <th>dst_host_same_src_port_rate</th>\n",
       "      <th>dst_host_srv_diff_host_rate</th>\n",
       "      <th>dst_host_serror_rate</th>\n",
       "      <th>dst_host_srv_serror_rate</th>\n",
       "      <th>dst_host_rerror_rate</th>\n",
       "      <th>dst_host_srv_rerror_rate</th>\n",
       "      <th>attack_type</th>\n",
       "      <th>attack</th>\n",
       "    </tr>\n",
       "  </thead>\n",
       "  <tbody>\n",
       "    <tr>\n",
       "      <th>0</th>\n",
       "      <td>0.0</td>\n",
       "      <td>tcp</td>\n",
       "      <td>http</td>\n",
       "      <td>SF</td>\n",
       "      <td>2.610418e-07</td>\n",
       "      <td>0.001057</td>\n",
       "      <td>0.0</td>\n",
       "      <td>0.0</td>\n",
       "      <td>0.0</td>\n",
       "      <td>0.0</td>\n",
       "      <td>...</td>\n",
       "      <td>1.0</td>\n",
       "      <td>0.0</td>\n",
       "      <td>0.11</td>\n",
       "      <td>0.0</td>\n",
       "      <td>0.0</td>\n",
       "      <td>0.0</td>\n",
       "      <td>0.0</td>\n",
       "      <td>0.0</td>\n",
       "      <td>normal</td>\n",
       "      <td>0.0</td>\n",
       "    </tr>\n",
       "    <tr>\n",
       "      <th>1</th>\n",
       "      <td>0.0</td>\n",
       "      <td>tcp</td>\n",
       "      <td>http</td>\n",
       "      <td>SF</td>\n",
       "      <td>3.446905e-07</td>\n",
       "      <td>0.000094</td>\n",
       "      <td>0.0</td>\n",
       "      <td>0.0</td>\n",
       "      <td>0.0</td>\n",
       "      <td>0.0</td>\n",
       "      <td>...</td>\n",
       "      <td>1.0</td>\n",
       "      <td>0.0</td>\n",
       "      <td>0.05</td>\n",
       "      <td>0.0</td>\n",
       "      <td>0.0</td>\n",
       "      <td>0.0</td>\n",
       "      <td>0.0</td>\n",
       "      <td>0.0</td>\n",
       "      <td>normal</td>\n",
       "      <td>0.0</td>\n",
       "    </tr>\n",
       "    <tr>\n",
       "      <th>2</th>\n",
       "      <td>0.0</td>\n",
       "      <td>tcp</td>\n",
       "      <td>http</td>\n",
       "      <td>SF</td>\n",
       "      <td>3.389216e-07</td>\n",
       "      <td>0.000259</td>\n",
       "      <td>0.0</td>\n",
       "      <td>0.0</td>\n",
       "      <td>0.0</td>\n",
       "      <td>0.0</td>\n",
       "      <td>...</td>\n",
       "      <td>1.0</td>\n",
       "      <td>0.0</td>\n",
       "      <td>0.03</td>\n",
       "      <td>0.0</td>\n",
       "      <td>0.0</td>\n",
       "      <td>0.0</td>\n",
       "      <td>0.0</td>\n",
       "      <td>0.0</td>\n",
       "      <td>normal</td>\n",
       "      <td>0.0</td>\n",
       "    </tr>\n",
       "    <tr>\n",
       "      <th>3</th>\n",
       "      <td>0.0</td>\n",
       "      <td>tcp</td>\n",
       "      <td>http</td>\n",
       "      <td>SF</td>\n",
       "      <td>3.158461e-07</td>\n",
       "      <td>0.000259</td>\n",
       "      <td>0.0</td>\n",
       "      <td>0.0</td>\n",
       "      <td>0.0</td>\n",
       "      <td>0.0</td>\n",
       "      <td>...</td>\n",
       "      <td>1.0</td>\n",
       "      <td>0.0</td>\n",
       "      <td>0.03</td>\n",
       "      <td>0.0</td>\n",
       "      <td>0.0</td>\n",
       "      <td>0.0</td>\n",
       "      <td>0.0</td>\n",
       "      <td>0.0</td>\n",
       "      <td>normal</td>\n",
       "      <td>0.0</td>\n",
       "    </tr>\n",
       "    <tr>\n",
       "      <th>4</th>\n",
       "      <td>0.0</td>\n",
       "      <td>tcp</td>\n",
       "      <td>http</td>\n",
       "      <td>SF</td>\n",
       "      <td>3.129617e-07</td>\n",
       "      <td>0.000394</td>\n",
       "      <td>0.0</td>\n",
       "      <td>0.0</td>\n",
       "      <td>0.0</td>\n",
       "      <td>0.0</td>\n",
       "      <td>...</td>\n",
       "      <td>1.0</td>\n",
       "      <td>0.0</td>\n",
       "      <td>0.02</td>\n",
       "      <td>0.0</td>\n",
       "      <td>0.0</td>\n",
       "      <td>0.0</td>\n",
       "      <td>0.0</td>\n",
       "      <td>0.0</td>\n",
       "      <td>normal</td>\n",
       "      <td>0.0</td>\n",
       "    </tr>\n",
       "  </tbody>\n",
       "</table>\n",
       "<p>5 rows × 43 columns</p>\n",
       "</div>"
      ],
      "text/plain": [
       "   duration protocol_type service flag     src_bytes  dst_bytes  land  \\\n",
       "0       0.0           tcp    http   SF  2.610418e-07   0.001057   0.0   \n",
       "1       0.0           tcp    http   SF  3.446905e-07   0.000094   0.0   \n",
       "2       0.0           tcp    http   SF  3.389216e-07   0.000259   0.0   \n",
       "3       0.0           tcp    http   SF  3.158461e-07   0.000259   0.0   \n",
       "4       0.0           tcp    http   SF  3.129617e-07   0.000394   0.0   \n",
       "\n",
       "   wrong_fragment  urgent  hot   ...    dst_host_same_srv_rate  \\\n",
       "0             0.0     0.0  0.0   ...                       1.0   \n",
       "1             0.0     0.0  0.0   ...                       1.0   \n",
       "2             0.0     0.0  0.0   ...                       1.0   \n",
       "3             0.0     0.0  0.0   ...                       1.0   \n",
       "4             0.0     0.0  0.0   ...                       1.0   \n",
       "\n",
       "   dst_host_diff_srv_rate  dst_host_same_src_port_rate  \\\n",
       "0                     0.0                         0.11   \n",
       "1                     0.0                         0.05   \n",
       "2                     0.0                         0.03   \n",
       "3                     0.0                         0.03   \n",
       "4                     0.0                         0.02   \n",
       "\n",
       "   dst_host_srv_diff_host_rate  dst_host_serror_rate  \\\n",
       "0                          0.0                   0.0   \n",
       "1                          0.0                   0.0   \n",
       "2                          0.0                   0.0   \n",
       "3                          0.0                   0.0   \n",
       "4                          0.0                   0.0   \n",
       "\n",
       "   dst_host_srv_serror_rate  dst_host_rerror_rate  dst_host_srv_rerror_rate  \\\n",
       "0                       0.0                   0.0                       0.0   \n",
       "1                       0.0                   0.0                       0.0   \n",
       "2                       0.0                   0.0                       0.0   \n",
       "3                       0.0                   0.0                       0.0   \n",
       "4                       0.0                   0.0                       0.0   \n",
       "\n",
       "   attack_type  attack  \n",
       "0       normal     0.0  \n",
       "1       normal     0.0  \n",
       "2       normal     0.0  \n",
       "3       normal     0.0  \n",
       "4       normal     0.0  \n",
       "\n",
       "[5 rows x 43 columns]"
      ]
     },
     "execution_count": 17,
     "metadata": {},
     "output_type": "execute_result"
    }
   ],
   "source": [
    "DF_scaled.head()"
   ]
  },
  {
   "cell_type": "code",
   "execution_count": 18,
   "metadata": {
    "collapsed": true
   },
   "outputs": [],
   "source": [
    "numeric_attributes_test = DFTest.dtypes[DFTest.dtypes != \"object\"].index\n",
    "numeric_attributes_test\n",
    "DFTest_scaled = DFTest\n",
    "DFTest_scaled[numeric_attributes_test] = min_max_scaler.fit_transform(DFTest[numeric_attributes_test])"
   ]
  },
  {
   "cell_type": "markdown",
   "metadata": {},
   "source": [
    "#### Numeric Encoding for Categorical Variables. \n",
    "\n",
    "Here we would use dummy variables which are indicator variables for categorical attributes. Pandas has an inbuilt functionality to do this called get_dummies"
   ]
  },
  {
   "cell_type": "code",
   "execution_count": 19,
   "metadata": {
    "collapsed": true
   },
   "outputs": [],
   "source": [
    "DF_scaled = pd.get_dummies(DF_scaled, columns=['protocol_type', 'service', 'flag'])"
   ]
  },
  {
   "cell_type": "code",
   "execution_count": 20,
   "metadata": {},
   "outputs": [
    {
     "data": {
      "text/plain": [
       "Index([u'duration', u'src_bytes', u'dst_bytes', u'land', u'wrong_fragment',\n",
       "       u'urgent', u'hot', u'num_failed_logins', u'logged_in',\n",
       "       u'num_compromised',\n",
       "       ...\n",
       "       u'flag_REJ', u'flag_RSTO', u'flag_RSTOS0', u'flag_RSTR', u'flag_S0',\n",
       "       u'flag_S1', u'flag_S2', u'flag_S3', u'flag_SF', u'flag_SH'],\n",
       "      dtype='object', length=120)"
      ]
     },
     "execution_count": 20,
     "metadata": {},
     "output_type": "execute_result"
    }
   ],
   "source": [
    "DF_scaled.columns"
   ]
  },
  {
   "cell_type": "code",
   "execution_count": 21,
   "metadata": {
    "collapsed": true
   },
   "outputs": [],
   "source": [
    "DFTest_scaled = pd.get_dummies(DFTest_scaled, columns=['protocol_type', 'service', 'flag'])"
   ]
  },
  {
   "cell_type": "markdown",
   "metadata": {},
   "source": [
    "For the scaled dataframe, we only need the binary feature. Thus, we drop the attack_type column"
   ]
  },
  {
   "cell_type": "code",
   "execution_count": 22,
   "metadata": {
    "collapsed": true
   },
   "outputs": [],
   "source": [
    "del DF_scaled['attack_type']"
   ]
  },
  {
   "cell_type": "code",
   "execution_count": 23,
   "metadata": {
    "collapsed": true
   },
   "outputs": [],
   "source": [
    "del DFTest_scaled['attack_type']"
   ]
  },
  {
   "cell_type": "code",
   "execution_count": 24,
   "metadata": {
    "collapsed": true
   },
   "outputs": [],
   "source": [
    "DF_normal = DF_scaled[DF_scaled['attack'] == 0]\n",
    "DF_attacked = DF_scaled[DF_scaled['attack'] == 1]"
   ]
  },
  {
   "cell_type": "markdown",
   "metadata": {},
   "source": [
    "### Let us do some Exploratory Analysis to see how the data looks and how it is distributed."
   ]
  },
  {
   "cell_type": "code",
   "execution_count": 264,
   "metadata": {
    "collapsed": true
   },
   "outputs": [],
   "source": [
    "import matplotlib.pyplot as plt\n",
    "import seaborn as sns"
   ]
  },
  {
   "cell_type": "markdown",
   "metadata": {},
   "source": [
    "#### Now, we see how the attack_type values are distributed in the dataset"
   ]
  },
  {
   "cell_type": "code",
   "execution_count": 265,
   "metadata": {},
   "outputs": [
    {
     "data": {
      "image/png": "[encoded data removed]",
      "text/plain": [
       "<matplotlib.figure.Figure at 0x14d989350>"
      ]
     },
     "metadata": {},
     "output_type": "display_data"
    }
   ],
   "source": [
    "plt.yscale('log')\n",
    "DF_scaled['attack_type'].value_counts().plot(kind='bar')\n",
    "plt.show()"
   ]
  },
  {
   "cell_type": "markdown",
   "metadata": {},
   "source": [
    "#### For Binary values"
   ]
  },
  {
   "cell_type": "code",
   "execution_count": 266,
   "metadata": {},
   "outputs": [
    {
     "data": {
      "image/png": "[encoded data removed]",
      "text/plain": [
       "<matplotlib.figure.Figure at 0x147a2f550>"
      ]
     },
     "metadata": {},
     "output_type": "display_data"
    }
   ],
   "source": [
    "DF_scaled['attack'].value_counts().plot(kind = 'bar')\n",
    "plt.show()"
   ]
  },
  {
   "cell_type": "markdown",
   "metadata": {},
   "source": [
    "#### Protocol Types"
   ]
  },
  {
   "cell_type": "code",
   "execution_count": 267,
   "metadata": {},
   "outputs": [
    {
     "data": {
      "image/png": "[encoded data removed]",
      "text/plain": [
       "<matplotlib.figure.Figure at 0x1427ce890>"
      ]
     },
     "metadata": {},
     "output_type": "display_data"
    }
   ],
   "source": [
    "DF_scaled['protocol_type'].value_counts().plot(kind='bar')\n",
    "plt.show()"
   ]
  },
  {
   "cell_type": "code",
   "execution_count": 268,
   "metadata": {},
   "outputs": [
    {
     "data": {
      "image/png": "[encoded data removed]",
      "text/plain": [
       "<matplotlib.figure.Figure at 0x1409b03d0>"
      ]
     },
     "metadata": {},
     "output_type": "display_data"
    }
   ],
   "source": [
    "plt.figure(figsize=[12,8])\n",
    "plt.yscale('log')\n",
    "DF_scaled['service'].value_counts()[:10].plot(kind='bar')\n",
    "plt.show()"
   ]
  },
  {
   "cell_type": "code",
   "execution_count": 269,
   "metadata": {},
   "outputs": [
    {
     "data": {
      "text/plain": [
       "array(['SF', 'S2', 'S1', 'S3', 'OTH', 'REJ', 'RSTO', 'S0', 'RSTR',\n",
       "       'RSTOS0', 'SH'], dtype=object)"
      ]
     },
     "execution_count": 269,
     "metadata": {},
     "output_type": "execute_result"
    }
   ],
   "source": [
    "DF_scaled['flag'].unique()"
   ]
  },
  {
   "cell_type": "code",
   "execution_count": 270,
   "metadata": {
    "collapsed": true
   },
   "outputs": [],
   "source": [
    "import numpy as np\n",
    "\n",
    "corr = DF_scaled.corr()\n",
    "s = corr.unstack()\n",
    "so = s.sort_values(kind=\"quicksort\")"
   ]
  },
  {
   "cell_type": "code",
   "execution_count": 271,
   "metadata": {},
   "outputs": [
    {
     "data": {
      "text/plain": [
       "same_srv_rate             attack                     -0.940394\n",
       "attack                    same_srv_rate              -0.940394\n",
       "same_srv_rate             dst_host_srv_serror_rate   -0.856796\n",
       "dst_host_srv_serror_rate  same_srv_rate              -0.856796\n",
       "srv_serror_rate           same_srv_rate              -0.855083\n",
       "same_srv_rate             srv_serror_rate            -0.855083\n",
       "                          serror_rate                -0.854749\n",
       "serror_rate               same_srv_rate              -0.854749\n",
       "dst_host_serror_rate      same_srv_rate              -0.854138\n",
       "same_srv_rate             dst_host_serror_rate       -0.854138\n",
       "count                     same_srv_rate              -0.839609\n",
       "same_srv_rate             count                      -0.839609\n",
       "dst_host_same_srv_rate    attack                     -0.792812\n",
       "attack                    dst_host_same_srv_rate     -0.792812\n",
       "dst_host_srv_count        attack                     -0.744471\n",
       "attack                    dst_host_srv_count         -0.744471\n",
       "logged_in                 attack                     -0.732258\n",
       "attack                    logged_in                  -0.732258\n",
       "dst_host_serror_rate      dst_host_same_srv_rate     -0.710121\n",
       "dst_host_same_srv_rate    dst_host_serror_rate       -0.710121\n",
       "dtype: float64"
      ]
     },
     "execution_count": 271,
     "metadata": {},
     "output_type": "execute_result"
    }
   ],
   "source": [
    "so[:20]"
   ]
  },
  {
   "cell_type": "code",
   "execution_count": 272,
   "metadata": {
    "collapsed": true
   },
   "outputs": [],
   "source": [
    "def plotHists(i, threshold = 0):\n",
    "    plt.figure(figsize = [16,12])\n",
    "    plt.subplot(2, 1, 1)\n",
    "    plt.title('Histogram for '+i+': Normal connections')\n",
    "    plt.yscale('log')\n",
    "    plt.hist(DF_normal[DF_normal[i] > threshold][i], bins=300, color='blue')\n",
    "    plt.subplot(2, 1, 2)\n",
    "    plt.title('Histogram for '+i+': Attacked connections')\n",
    "    plt.yscale('log')\n",
    "    plt.hist(DF_attacked[DF_attacked[i] > threshold][i], bins = 300, color='green')\n",
    "    plt.show()\n"
   ]
  },
  {
   "cell_type": "code",
   "execution_count": 274,
   "metadata": {},
   "outputs": [
    {
     "data": {
      "image/png": "[encoded data removed]",
      "text/plain": [
       "<matplotlib.figure.Figure at 0x13ce22f50>"
      ]
     },
     "metadata": {},
     "output_type": "display_data"
    }
   ],
   "source": [
    "plotHists('duration')"
   ]
  },
  {
   "cell_type": "markdown",
   "metadata": {},
   "source": [
    "### Training the Model"
   ]
  },
  {
   "cell_type": "markdown",
   "metadata": {},
   "source": [
    "To train a classification model, it is important to consider the balanced training set.<br>There is a class imbalance in the Dataset and that could give rise to a biased model. <br>In this case, it is most important to minimize False Negatives. False Positives are still acceptible."
   ]
  },
  {
   "cell_type": "code",
   "execution_count": 25,
   "metadata": {},
   "outputs": [
    {
     "data": {
      "text/plain": [
       "57754"
      ]
     },
     "execution_count": 25,
     "metadata": {},
     "output_type": "execute_result"
    }
   ],
   "source": [
    "len(DF_attacked)"
   ]
  },
  {
   "cell_type": "code",
   "execution_count": 26,
   "metadata": {},
   "outputs": [
    {
     "data": {
      "text/plain": [
       "87832"
      ]
     },
     "execution_count": 26,
     "metadata": {},
     "output_type": "execute_result"
    }
   ],
   "source": [
    "len(DF_normal)"
   ]
  },
  {
   "cell_type": "code",
   "execution_count": 27,
   "metadata": {
    "collapsed": true
   },
   "outputs": [],
   "source": [
    "Y = DF_scaled['attack']\n",
    "result_features = ['attack']\n",
    "result_indices = DF_scaled.columns.difference(result_features)\n",
    "X = DF_scaled[result_indices]"
   ]
  },
  {
   "cell_type": "code",
   "execution_count": 28,
   "metadata": {
    "collapsed": true
   },
   "outputs": [],
   "source": [
    "from sklearn.ensemble import RandomForestClassifier\n",
    "from sklearn.tree import DecisionTreeClassifier\n",
    "from sklearn.linear_model import LogisticRegression\n",
    "from sklearn import svm\n",
    "from sklearn.neighbors import KNeighborsClassifier"
   ]
  },
  {
   "cell_type": "code",
   "execution_count": 30,
   "metadata": {
    "collapsed": true
   },
   "outputs": [],
   "source": [
    "#RFclf = RandomForestClassifier(class_weight='balanced')\n",
    "#DTclf = RandomForestClassifier(class_weight='balanced')\n",
    "#LRclf = LogisticRegression(class_weight='balanced', solver='newton-cg')\n",
    "#SVMclf = svm.SVC()\n",
    "kNNclf = KNeighborsClassifier(n_neighbors=15)"
   ]
  },
  {
   "cell_type": "code",
   "execution_count": 31,
   "metadata": {},
   "outputs": [
    {
     "data": {
      "text/plain": [
       "KNeighborsClassifier(algorithm='auto', leaf_size=30, metric='minkowski',\n",
       "           metric_params=None, n_jobs=1, n_neighbors=15, p=2,\n",
       "           weights='uniform')"
      ]
     },
     "execution_count": 31,
     "metadata": {},
     "output_type": "execute_result"
    }
   ],
   "source": [
    "#RFclf.fit(X, Y)\n",
    "#DTclf.fit(X, Y)\n",
    "#LRclf.fit(X, Y)\n",
    "#SVMclf.fit(X, Y)\n",
    "kNNclf.fit(X, Y)"
   ]
  },
  {
   "cell_type": "code",
   "execution_count": 250,
   "metadata": {},
   "outputs": [
    {
     "name": "stdout",
     "output_type": "stream",
     "text": [
      "[  1.45967583e-02   1.37221607e-03   8.07558907e-02   2.14756668e-02\n",
      "   7.01043558e-02   4.60620115e-03   2.65347206e-02   3.28634330e-02\n",
      "   7.60081849e-03   8.49533991e-02   5.07449678e-03   3.25532805e-03\n",
      "   5.94727339e-02   1.08706018e-03   0.00000000e+00   1.04811550e-03\n",
      "   1.29933203e-05   0.00000000e+00   7.26747856e-04   5.89445573e-02\n",
      "   1.88386723e-05   1.55356904e-05   1.37600229e-07   1.54727622e-01\n",
      "   0.00000000e+00   1.27913228e-02   1.62044657e-03   0.00000000e+00\n",
      "   9.49094337e-07   6.07536423e-02   5.01089679e-05   8.49830433e-03\n",
      "   3.39245431e-05   1.01751469e-04   0.00000000e+00   1.19619759e-04\n",
      "   4.90843427e-05   5.70118973e-03   2.91090146e-03   7.22453716e-03\n",
      "   7.19770505e-03   1.54621999e-04   1.13382915e-01   1.35026103e-02\n",
      "   3.01456495e-05   1.18742789e-06   0.00000000e+00   1.81439029e-05\n",
      "   0.00000000e+00   8.57241285e-14   9.27967875e-10   0.00000000e+00\n",
      "   0.00000000e+00   1.00020171e-05   0.00000000e+00   5.83722372e-04\n",
      "   3.41239330e-09   2.96203996e-03   7.60347994e-03   0.00000000e+00\n",
      "   0.00000000e+00   6.73166861e-05   1.14465431e-03   2.87727988e-03\n",
      "   1.57571715e-05   0.00000000e+00   7.16032867e-03   0.00000000e+00\n",
      "   1.24557138e-05   3.69446780e-11   0.00000000e+00   0.00000000e+00\n",
      "   0.00000000e+00   1.33578081e-05   3.23660896e-05   9.85106921e-08\n",
      "   0.00000000e+00   0.00000000e+00   0.00000000e+00   0.00000000e+00\n",
      "   9.69229223e-10   0.00000000e+00   0.00000000e+00   2.63843776e-05\n",
      "   7.64320310e-03   0.00000000e+00   0.00000000e+00   4.25672905e-06\n",
      "   0.00000000e+00   7.52722345e-02   3.19803626e-06   0.00000000e+00\n",
      "   6.62708377e-10   4.22757621e-06   5.08032587e-04   0.00000000e+00\n",
      "   0.00000000e+00   0.00000000e+00   2.25929150e-08   3.31231313e-06\n",
      "   1.80706202e-04   8.06075751e-06   7.50735857e-06   3.09094945e-05\n",
      "   7.58634899e-07   5.14340273e-05   3.22420265e-06   0.00000000e+00\n",
      "   5.54554339e-06   2.02343224e-06   1.02389372e-02   8.20726820e-03\n",
      "   4.39176531e-03   3.11293930e-03   1.10126653e-04   4.04046708e-05\n",
      "   4.57378936e-06   4.26533901e-03]\n",
      "[  8.88435797e-02   1.93825242e-01   1.13377088e-02   1.47101042e-02\n",
      "   7.53177312e-02   8.73333761e-03   1.33283427e-02   4.19444003e-03\n",
      "   5.96685514e-02   8.19024743e-02   8.14734947e-03   7.68733212e-03\n",
      "   4.91962965e-03   1.83138250e-03   6.62362813e-06   1.65292808e-02\n",
      "   5.63631533e-05   0.00000000e+00   6.59750589e-04   1.45613721e-01\n",
      "   1.23666466e-05   3.05061534e-06   1.03950942e-08   7.88678463e-02\n",
      "   1.86679509e-05   1.18508408e-02   1.22418399e-03   0.00000000e+00\n",
      "   7.80216004e-06   2.87054003e-03   5.66019013e-05   6.96116284e-03\n",
      "   5.46040782e-05   8.80408816e-05   0.00000000e+00   1.57580994e-04\n",
      "   3.25094622e-05   8.93826467e-03   1.50008112e-03   1.06757588e-03\n",
      "   2.30214627e-03   6.66395828e-05   4.19509830e-03   1.84334374e-03\n",
      "   1.26364587e-05   1.20644192e-05   0.00000000e+00   6.49485135e-06\n",
      "   0.00000000e+00   0.00000000e+00   2.20674128e-08   3.99461050e-06\n",
      "   0.00000000e+00   0.00000000e+00   5.84826250e-06   1.55463912e-03\n",
      "   0.00000000e+00   2.19253051e-03   7.05449422e-03   4.82049677e-12\n",
      "   0.00000000e+00   4.48954530e-05   9.53454124e-04   2.00346330e-03\n",
      "   1.64858047e-05   1.27867975e-06   5.54763132e-03   0.00000000e+00\n",
      "   3.01126977e-05   0.00000000e+00   0.00000000e+00   0.00000000e+00\n",
      "   0.00000000e+00   4.90461300e-05   1.68994105e-05   2.01024070e-06\n",
      "   8.66316547e-09   0.00000000e+00   0.00000000e+00   3.10557169e-06\n",
      "   3.47780198e-06   0.00000000e+00   3.40332412e-06   1.90808967e-05\n",
      "   4.46050089e-03   0.00000000e+00   0.00000000e+00   1.43312428e-05\n",
      "   0.00000000e+00   8.50467716e-02   3.93616524e-07   3.37876469e-06\n",
      "   0.00000000e+00   0.00000000e+00   6.61143255e-04   0.00000000e+00\n",
      "   0.00000000e+00   0.00000000e+00   0.00000000e+00   0.00000000e+00\n",
      "   4.05448189e-04   9.03766179e-06   2.21985108e-05   4.52285986e-05\n",
      "   9.93095499e-07   1.17293470e-05   1.00959271e-05   0.00000000e+00\n",
      "   0.00000000e+00   0.00000000e+00   1.20839862e-02   6.38132672e-03\n",
      "   1.39191289e-03   4.67451822e-03   7.58519127e-05   4.74758676e-06\n",
      "   1.39736735e-05   5.71345043e-03]\n"
     ]
    }
   ],
   "source": [
    "print(RFclf.feature_importances_)\n",
    "print(DTclf.feature_importances_)"
   ]
  },
  {
   "cell_type": "code",
   "execution_count": 245,
   "metadata": {},
   "outputs": [
    {
     "data": {
      "image/png": "[encoded data removed]",
      "text/plain": [
       "<matplotlib.figure.Figure at 0x1568f8890>"
      ]
     },
     "metadata": {},
     "output_type": "display_data"
    }
   ],
   "source": [
    "import matplotlib.pyplot as plt\n",
    "import numpy as np\n",
    "y_axis = clf.feature_importances_\n",
    "x_axis = X.columns.values\n",
    "y_pos = np.arange(len(x_axis))\n",
    "plt.figure(figsize=[24,18])\n",
    "plt.bar(y_pos, y_axis, align='center', alpha=0.5)\n",
    "plt.xticks(y_pos, x_axis, rotation = 90)\n",
    "plt.ylabel('Feature_Importance')\n",
    "plt.xlabel('Features')\n",
    "plt.show()"
   ]
  },
  {
   "cell_type": "code",
   "execution_count": 32,
   "metadata": {
    "collapsed": true
   },
   "outputs": [],
   "source": [
    "from sklearn.metrics import accuracy_score\n",
    "\n",
    "def classifierAccuracy(clf):\n",
    "    cd_train = clf.predict(X)\n",
    "    cd_test = clf.predict(DFTest_scaled)\n",
    "    acc_train = accuracy_score(Y, cd_train)\n",
    "    W = DFTest_scaled['attack']\n",
    "    acc_test = accuracy_score(W, cd_test)\n",
    "\n",
    "    print('Predicted Attack for Train Data:', cd_train)\n",
    "    print('Predicted Attack for Test Data:', cd_test)\n",
    "    print('Accuracy in Train Data:', acc_train)\n",
    "    print('Accuracy in Test Data:', acc_test)\n",
    "    fpr, tpr, thresholds = metrics.roc_curve(W, cd_test, pos_label=0)\n",
    "    auc = np.trapz(tpr,fpr)\n",
    "    print('AUC:', auc)\n",
    "    plt.plot(fpr,tpr)\n",
    "    plt.show() "
   ]
  },
  {
   "cell_type": "code",
   "execution_count": null,
   "metadata": {
    "collapsed": true
   },
   "outputs": [],
   "source": [
    "classifierAccuracy(kNNclf)"
   ]
  },
  {
   "cell_type": "code",
   "execution_count": 232,
   "metadata": {
    "collapsed": true
   },
   "outputs": [],
   "source": [
    "from sklearn import metrics"
   ]
  },
  {
   "cell_type": "code",
   "execution_count": 270,
   "metadata": {
    "collapsed": true
   },
   "outputs": [],
   "source": [
    "fpr, tpr, thresholds = metrics.roc_curve(W, cd_test, pos_label=0)"
   ]
  },
  {
   "cell_type": "code",
   "execution_count": 271,
   "metadata": {
    "scrolled": true
   },
   "outputs": [
    {
     "data": {
      "image/png": "[encoded data removed]",
      "text/plain": [
       "<matplotlib.figure.Figure at 0x156f7ed10>"
      ]
     },
     "metadata": {},
     "output_type": "display_data"
    }
   ],
   "source": [
    "plt.plot(fpr,tpr)\n",
    "plt.show() "
   ]
  },
  {
   "cell_type": "code",
   "execution_count": 236,
   "metadata": {},
   "outputs": [
    {
     "name": "stdout",
     "output_type": "stream",
     "text": [
      "('AUC:', 0.58675422796457122)\n"
     ]
    }
   ],
   "source": [
    "auc = np.trapz(tpr,fpr)\n",
    "print('AUC:', auc)"
   ]
  },
  {
   "cell_type": "code",
   "execution_count": null,
   "metadata": {
    "collapsed": true
   },
   "outputs": [],
   "source": []
  }
 ],
 "metadata": {
  "kernelspec": {
   "display_name": "Python 2",
   "language": "python",
   "name": "python2"
  },
  "language_info": {
   "codemirror_mode": {
    "name": "ipython",
    "version": 2
   },
   "file_extension": ".py",
   "mimetype": "text/x-python",
   "name": "python",
   "nbconvert_exporter": "python",
   "pygments_lexer": "ipython2",
   "version": "2.7.13"
  }
 },
 "nbformat": 4,
 "nbformat_minor": 2
}
